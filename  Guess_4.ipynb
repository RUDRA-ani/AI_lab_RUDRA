{
 "cells": [
  {
   "cell_type": "markdown",
   "id": "b64d2f39-1c3e-4549-9497-a8cab7a9ad89",
   "metadata": {},
   "source": [
    "Guess Game\n"
   ]
  },
  {
   "cell_type": "code",
   "execution_count": null,
   "id": "de2c497a-b512-42be-bd80-cac7d8400da9",
   "metadata": {},
   "outputs": [
    {
     "name": "stdout",
     "output_type": "stream",
     "text": [
      "Welcome to guessing game.\n",
      "Here you should guess a number from 0-100\n"
     ]
    },
    {
     "name": "stdin",
     "output_type": "stream",
     "text": [
      "enter a number you have guessed 45\n"
     ]
    },
    {
     "name": "stdout",
     "output_type": "stream",
     "text": [
      "try again\n",
      "try going smaller\n"
     ]
    },
    {
     "name": "stdin",
     "output_type": "stream",
     "text": [
      "enter a number you have guessed 44\n"
     ]
    },
    {
     "name": "stdout",
     "output_type": "stream",
     "text": [
      "try again\n",
      "try going smaller\n"
     ]
    },
    {
     "name": "stdin",
     "output_type": "stream",
     "text": [
      "enter a number you have guessed 23\n"
     ]
    },
    {
     "name": "stdout",
     "output_type": "stream",
     "text": [
      "try again\n",
      "try going smaller\n"
     ]
    },
    {
     "name": "stdin",
     "output_type": "stream",
     "text": [
      "enter a number you have guessed 22\n"
     ]
    },
    {
     "name": "stdout",
     "output_type": "stream",
     "text": [
      "try again\n",
      "try going larger\n"
     ]
    },
    {
     "name": "stdin",
     "output_type": "stream",
     "text": [
      "enter a number you have guessed 23\n"
     ]
    },
    {
     "name": "stdout",
     "output_type": "stream",
     "text": [
      "try again\n",
      "try going smaller\n"
     ]
    }
   ],
   "source": [
    "import random\n",
    "def guess(n):\n",
    "    return random.randint(0,n)\n",
    "\n",
    "number=100\n",
    "print(\"Welcome to guessing game.\")\n",
    "print(\"Here you should guess a number from 0-100\")\n",
    "\n",
    "while True:\n",
    " number1=int(input(\"enter a number you have guessed\"))\n",
    " if number1==guess(number):\n",
    "  print(\"you are correct\")\n",
    "  break \n",
    " else:\n",
    "        print(\"try again\")\n",
    "        if number1<guess(number):\n",
    "          print(\"try going larger\")\n",
    "        else :\n",
    "          print(\"try going smaller\")\n",
    "    \n",
    "\n"
   ]
  },
  {
   "cell_type": "code",
   "execution_count": null,
   "id": "b6d843c9-c989-454b-8f26-8303895faf06",
   "metadata": {},
   "outputs": [],
   "source": [
    "# yaha ke mistake bhayo nai taha pauna sakina ......"
   ]
  },
  {
   "cell_type": "code",
   "execution_count": null,
   "id": "c862dde3-0c7e-4a94-83f0-58a24bb4550a",
   "metadata": {},
   "outputs": [],
   "source": []
  },
  {
   "cell_type": "code",
   "execution_count": null,
   "id": "1ad6a953-dda5-4c98-aabe-9f27574ccef7",
   "metadata": {},
   "outputs": [],
   "source": []
  },
  {
   "cell_type": "code",
   "execution_count": null,
   "id": "1c795ab9-8a95-4855-b11f-b263a572a57b",
   "metadata": {},
   "outputs": [],
   "source": []
  },
  {
   "cell_type": "code",
   "execution_count": null,
   "id": "0afafd4b-16da-4c34-baed-cfc149e4a7b8",
   "metadata": {},
   "outputs": [],
   "source": []
  },
  {
   "cell_type": "code",
   "execution_count": null,
   "id": "e3352f1f-c1f9-402c-8340-b8ec4e6a92cd",
   "metadata": {},
   "outputs": [],
   "source": []
  },
  {
   "cell_type": "code",
   "execution_count": null,
   "id": "8780b32d-1161-4979-b0df-f18ac12fa754",
   "metadata": {},
   "outputs": [],
   "source": []
  }
 ],
 "metadata": {
  "kernelspec": {
   "display_name": "Python 3 (ipykernel)",
   "language": "python",
   "name": "python3"
  },
  "language_info": {
   "codemirror_mode": {
    "name": "ipython",
    "version": 3
   },
   "file_extension": ".py",
   "mimetype": "text/x-python",
   "name": "python",
   "nbconvert_exporter": "python",
   "pygments_lexer": "ipython3",
   "version": "3.12.3"
  }
 },
 "nbformat": 4,
 "nbformat_minor": 5
}
