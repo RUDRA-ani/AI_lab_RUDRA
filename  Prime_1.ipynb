{
 "cells": [
  {
   "cell_type": "markdown",
   "id": "db1534a0-daf7-4a43-a729-580f08ddf8e8",
   "metadata": {},
   "source": [
    "Prime number within a range"
   ]
  },
  {
   "cell_type": "code",
   "execution_count": 1,
   "id": "c62727eb-b7dc-485b-a174-70de2dd3fea7",
   "metadata": {},
   "outputs": [
    {
     "name": "stdin",
     "output_type": "stream",
     "text": [
      "Enter a number for lower limit 34\n",
      "Enter a number for upper limit 50\n"
     ]
    },
    {
     "name": "stdout",
     "output_type": "stream",
     "text": [
      "Prime numbers between 34 and 50: [37, 41, 43, 47]\n"
     ]
    }
   ],
   "source": [
    "def is_prime(n):\n",
    "    \n",
    "    if n <= 1:\n",
    "        return False\n",
    "    for i in range(2, int(n**0.5) + 1): #instead for running upto n ...if the number is divisible by root under n it is not prime . ani +1 chai range milauna lai.\n",
    "        if n % i == 0:\n",
    "            \n",
    "            return False\n",
    "    return True\n",
    "\n",
    "def find_primes_in_range(start, end):\n",
    "    primes = []\n",
    "    for num in range(start, end + 1):\n",
    "        if is_prime(num):\n",
    "            primes.append(num)\n",
    "    return primes\n",
    "start =int(input(\"Enter a number for lower limit\")) \n",
    "end = int (input(\"Enter a number for upper limit\"))\n",
    "\n",
    "prime_numbers = find_primes_in_range(start, end)\n",
    "\n",
    "print(f\"Prime numbers between {start} and {end}: {prime_numbers}\")\n"
   ]
  },
  {
   "cell_type": "code",
   "execution_count": null,
   "id": "2ae9916f-3875-4b54-984a-32ee6e9fcdee",
   "metadata": {},
   "outputs": [],
   "source": []
  }
 ],
 "metadata": {
  "kernelspec": {
   "display_name": "Python 3 (ipykernel)",
   "language": "python",
   "name": "python3"
  },
  "language_info": {
   "codemirror_mode": {
    "name": "ipython",
    "version": 3
   },
   "file_extension": ".py",
   "mimetype": "text/x-python",
   "name": "python",
   "nbconvert_exporter": "python",
   "pygments_lexer": "ipython3",
   "version": "3.12.3"
  }
 },
 "nbformat": 4,
 "nbformat_minor": 5
}
