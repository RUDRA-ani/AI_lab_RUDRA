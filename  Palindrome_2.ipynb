{
 "cells": [
  {
   "cell_type": "markdown",
   "id": "0976742a-1945-4fe5-ba8b-9ba3347a1b52",
   "metadata": {},
   "source": [
    "Palindrome check"
   ]
  },
  {
   "cell_type": "code",
   "execution_count": 11,
   "id": "8a837583-bf73-4b25-ae12-cb9e8105585d",
   "metadata": {},
   "outputs": [
    {
     "name": "stdin",
     "output_type": "stream",
     "text": [
      "enter a number to check palindrome or not 1234\n"
     ]
    },
    {
     "name": "stdout",
     "output_type": "stream",
     "text": [
      "not palindrome\n"
     ]
    }
   ],
   "source": [
    "def palindrome_check(num):\n",
    " ns=str(num)\n",
    " return ns == ns[::-1]\n",
    "\n",
    "number= int(input(\"enter a number to check palindrome or not\"))\n",
    "if palindrome_check(number):\n",
    "    print(\"yes palindrome\")\n",
    "else :\n",
    "    print(\"not palindrome\")\n",
    "\n"
   ]
  },
  {
   "cell_type": "code",
   "execution_count": null,
   "id": "65a2f764-1aa0-44cf-9214-6dc51537a0f0",
   "metadata": {},
   "outputs": [],
   "source": []
  }
 ],
 "metadata": {
  "kernelspec": {
   "display_name": "Python 3 (ipykernel)",
   "language": "python",
   "name": "python3"
  },
  "language_info": {
   "codemirror_mode": {
    "name": "ipython",
    "version": 3
   },
   "file_extension": ".py",
   "mimetype": "text/x-python",
   "name": "python",
   "nbconvert_exporter": "python",
   "pygments_lexer": "ipython3",
   "version": "3.12.3"
  }
 },
 "nbformat": 4,
 "nbformat_minor": 5
}
